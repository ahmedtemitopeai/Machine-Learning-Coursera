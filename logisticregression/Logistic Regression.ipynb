{
 "cells": [
  {
   "cell_type": "markdown",
   "metadata": {},
   "source": [
    "## Logistic Regression\n",
    "\n",
    "### Applicant's Probability of Admission\n",
    "\n",
    "<p>Suppose that you are the administrator of a university department and\n",
    "you want to determine each applicant’s chance of admission based on their\n",
    "results on two exams. You have historical data from previous applicants\n",
    "that you can use as a training set for logistic regression. For each training\n",
    "example, you have the applicant’s scores on two exams and the admissions\n",
    "decision.</p>"
   ]
  },
  {
   "cell_type": "markdown",
   "metadata": {},
   "source": [
    "### Import Libraries"
   ]
  },
  {
   "cell_type": "code",
   "execution_count": 1,
   "metadata": {},
   "outputs": [],
   "source": [
    "import numpy as np\n",
    "import matplotlib.pyplot as plt"
   ]
  },
  {
   "cell_type": "markdown",
   "metadata": {},
   "source": [
    "### Load Data"
   ]
  },
  {
   "cell_type": "code",
   "execution_count": 2,
   "metadata": {},
   "outputs": [
    {
     "data": {
      "text/plain": [
       "array([[34.62365962, 78.02469282,  0.        ],\n",
       "       [30.28671077, 43.89499752,  0.        ],\n",
       "       [35.84740877, 72.90219803,  0.        ],\n",
       "       [60.18259939, 86.3085521 ,  1.        ],\n",
       "       [79.03273605, 75.34437644,  1.        ]])"
      ]
     },
     "execution_count": 2,
     "metadata": {},
     "output_type": "execute_result"
    }
   ],
   "source": [
    "def load_data(data, delim):\n",
    "    df = np.genfromtxt(data, delimiter=delim)\n",
    "    return df\n",
    "\n",
    "df = load_data('ex2data1.txt', ',')\n",
    "df[0:5]"
   ]
  },
  {
   "cell_type": "markdown",
   "metadata": {},
   "source": [
    "### Get the features and Target of the data"
   ]
  },
  {
   "cell_type": "code",
   "execution_count": 3,
   "metadata": {},
   "outputs": [
    {
     "name": "stdout",
     "output_type": "stream",
     "text": [
      "[[34.62365962 78.02469282]\n",
      " [30.28671077 43.89499752]\n",
      " [35.84740877 72.90219803]\n",
      " [60.18259939 86.3085521 ]\n",
      " [79.03273605 75.34437644]]\n",
      "[[0.]\n",
      " [0.]\n",
      " [0.]\n",
      " [1.]\n",
      " [1.]]\n"
     ]
    }
   ],
   "source": [
    "length = len(df)\n",
    "x = df[:, 0:2]\n",
    "print(x[0:5])\n",
    "y = df[:, 2].reshape(length, 1)\n",
    "print(y[0:5])"
   ]
  },
  {
   "cell_type": "markdown",
   "metadata": {},
   "source": [
    "### Plot Data"
   ]
  },
  {
   "cell_type": "code",
   "execution_count": 4,
   "metadata": {},
   "outputs": [],
   "source": [
    "pos = np.where(y == 1)\n",
    "neg = np.where(y == 0)"
   ]
  },
  {
   "cell_type": "code",
   "execution_count": 5,
   "metadata": {},
   "outputs": [
    {
     "data": {
      "text/plain": [
       "array([ 3,  4,  6,  7,  8,  9, 12, 13, 15, 16, 18, 19, 21, 24, 25, 26, 30,\n",
       "       31, 33, 37, 40, 42, 46, 47, 48, 49, 50, 51, 52, 56, 58, 59, 60, 66,\n",
       "       68, 69, 71, 72, 73, 74, 75, 76, 77, 80, 81, 82, 83, 84, 85, 87, 88,\n",
       "       90, 91, 93, 94, 95, 96, 97, 98, 99])"
      ]
     },
     "execution_count": 5,
     "metadata": {},
     "output_type": "execute_result"
    }
   ],
   "source": [
    "pos[0]"
   ]
  },
  {
   "cell_type": "code",
   "execution_count": 6,
   "metadata": {},
   "outputs": [
    {
     "data": {
      "text/plain": [
       "array([60.18259939, 79.03273605, 61.10666454, 75.02474557, 76.0987867 ,\n",
       "       84.43281996, 82.30705337, 69.36458876, 53.97105215, 69.07014406,\n",
       "       70.66150955, 76.97878373, 89.67677575, 77.92409145, 62.27101367,\n",
       "       80.19018075, 61.37928945, 85.40451939, 52.04540477, 64.17698887,\n",
       "       83.90239366, 94.44336777, 77.19303493, 97.77159928, 62.0730638 ,\n",
       "       91.5649745 , 79.94481794, 99.27252693, 90.54671411, 97.64563396,\n",
       "       74.24869137, 71.79646206, 75.39561147, 40.45755098, 80.27957401,\n",
       "       66.74671857, 64.03932042, 72.34649423, 60.45788574, 58.84095622,\n",
       "       99.8278578 , 47.26426911, 50.4581598 , 88.91389642, 94.83450672,\n",
       "       67.31925747, 57.23870632, 80.366756  , 68.46852179, 75.47770201,\n",
       "       78.63542435, 94.09433113, 90.44855097, 74.49269242, 89.84580671,\n",
       "       83.48916274, 42.26170081, 99.31500881, 55.34001756, 74.775893  ])"
      ]
     },
     "execution_count": 6,
     "metadata": {},
     "output_type": "execute_result"
    }
   ],
   "source": [
    "x[pos, 0][0]"
   ]
  },
  {
   "cell_type": "code",
   "execution_count": 7,
   "metadata": {},
   "outputs": [
    {
     "data": {
      "text/plain": [
       "array([86.3085521 , 75.34437644, 96.51142588, 46.55401354, 87.42056972,\n",
       "       43.53339331, 76.4819633 , 97.71869196, 89.20735014, 52.74046973,\n",
       "       92.92713789, 47.57596365, 65.79936593, 68.97235999, 69.95445795,\n",
       "       44.82162893, 72.80788731, 57.05198398, 69.43286012, 80.90806059,\n",
       "       56.30804622, 65.56892161, 70.4582    , 86.72782233, 96.76882412,\n",
       "       88.69629255, 74.16311935, 60.999031  , 43.39060181, 68.86157272,\n",
       "       69.82457123, 78.45356225, 85.75993667, 97.53518549, 92.11606081,\n",
       "       60.99139403, 78.03168802, 96.22759297, 73.0949981 , 75.85844831,\n",
       "       72.36925193, 88.475865  , 75.80985953, 69.8037889 , 45.6943068 ,\n",
       "       66.58935318, 59.51428198, 90.9601479 , 85.5943071 , 90.424539  ,\n",
       "       96.64742717, 77.15910509, 87.50879176, 84.84513685, 45.35828361,\n",
       "       48.3802858 , 87.10385094, 68.77540947, 64.93193801, 89.5298129 ])"
      ]
     },
     "execution_count": 7,
     "metadata": {},
     "output_type": "execute_result"
    }
   ],
   "source": [
    "x[pos, 1][0]"
   ]
  },
  {
   "cell_type": "code",
   "execution_count": 8,
   "metadata": {},
   "outputs": [
    {
     "data": {
      "text/plain": [
       "array([34.62365962, 30.28671077, 35.84740877, 45.08327748, 95.86155507,\n",
       "       75.01365839, 39.53833914, 67.94685548, 67.37202755, 50.53478829,\n",
       "       34.21206098, 93.1143888 , 61.83020602, 38.7858038 , 52.10797973,\n",
       "       40.23689374, 54.63510555, 33.91550011, 74.78925296, 34.18364003,\n",
       "       51.54772027, 82.36875376, 51.04775177, 62.22267576, 34.52451385,\n",
       "       50.28649612, 49.58667722, 32.57720017, 35.28611282, 56.2538175 ,\n",
       "       30.05882245, 44.66826172, 66.56089447, 49.07256322, 32.72283304,\n",
       "       60.45555629, 82.22666158, 42.07545454, 52.34800399, 55.48216114])"
      ]
     },
     "execution_count": 8,
     "metadata": {},
     "output_type": "execute_result"
    }
   ],
   "source": [
    "x[neg, 0][0]"
   ]
  },
  {
   "cell_type": "code",
   "execution_count": 9,
   "metadata": {},
   "outputs": [
    {
     "data": {
      "text/plain": [
       "array([78.02469282, 43.89499752, 72.90219803, 56.31637178, 38.22527806,\n",
       "       30.60326323, 76.03681085, 46.67857411, 42.83843832, 48.85581153,\n",
       "       44.2095286 , 38.80067034, 50.25610789, 64.99568096, 63.12762377,\n",
       "       71.16774802, 52.21388588, 98.86943574, 41.57341523, 75.23772034,\n",
       "       46.85629026, 40.61825516, 45.82270146, 52.06099195, 60.39634246,\n",
       "       49.80453881, 59.80895099, 95.59854761, 47.02051395, 39.26147251,\n",
       "       49.59297387, 66.45008615, 41.09209808, 51.88321182, 43.30717306,\n",
       "       42.50840944, 42.71987854, 78.844786  , 60.76950526, 35.57070347])"
      ]
     },
     "execution_count": 9,
     "metadata": {},
     "output_type": "execute_result"
    }
   ],
   "source": [
    "x[neg, 1][0]"
   ]
  },
  {
   "cell_type": "code",
   "execution_count": 10,
   "metadata": {},
   "outputs": [
    {
     "data": {
      "text/plain": [
       "<matplotlib.legend.Legend at 0x7f05209e33c8>"
      ]
     },
     "execution_count": 10,
     "metadata": {},
     "output_type": "execute_result"
    },
    {
     "data": {
      "image/png": "[encoded data removed]",
      "text/plain": [
       "<Figure size 864x576 with 1 Axes>"
      ]
     },
     "metadata": {
      "needs_background": "light"
     },
     "output_type": "display_data"
    }
   ],
   "source": [
    "def plotData(x, y, marker, width, label, colour=None):\n",
    "    plt.scatter(x, y, marker=marker, linewidth=width, label=label, color=colour)\n",
    "\n",
    "\n",
    "plt.figure(figsize=(12, 8))\n",
    "plotData(x[pos, 0][0], x[pos, 1][0], '+', 2, 'Admitted')\n",
    "plotData(x[neg, 0][0], x[neg, 1][0], 'o', 2, 'Not Admitted', colour='y')\n",
    "plt.xlabel('Exam 1 Score')\n",
    "plt.ylabel('Exam 2 Score')\n",
    "plt.legend()"
   ]
  },
  {
   "cell_type": "code",
   "execution_count": 11,
   "metadata": {},
   "outputs": [
    {
     "data": {
      "text/plain": [
       "(100, 3)"
      ]
     },
     "execution_count": 11,
     "metadata": {},
     "output_type": "execute_result"
    }
   ],
   "source": [
    "X = np.c_[np.ones(length), x]\n",
    "X.shape"
   ]
  },
  {
   "cell_type": "markdown",
   "metadata": {},
   "source": [
    "### Initial Fitting Parameters"
   ]
  },
  {
   "cell_type": "code",
   "execution_count": 12,
   "metadata": {},
   "outputs": [
    {
     "data": {
      "text/plain": [
       "(100, 3)"
      ]
     },
     "execution_count": 12,
     "metadata": {},
     "output_type": "execute_result"
    }
   ],
   "source": [
    "m, n = X.shape\n",
    "m, n"
   ]
  },
  {
   "cell_type": "code",
   "execution_count": 13,
   "metadata": {},
   "outputs": [
    {
     "data": {
      "text/plain": [
       "array([[0.],\n",
       "       [0.],\n",
       "       [0.]])"
      ]
     },
     "execution_count": 13,
     "metadata": {},
     "output_type": "execute_result"
    }
   ],
   "source": [
    "initial_theta = np.zeros((n, 1))\n",
    "initial_theta"
   ]
  },
  {
   "cell_type": "markdown",
   "metadata": {},
   "source": [
    "### Sigmoid Function"
   ]
  },
  {
   "cell_type": "code",
   "execution_count": 14,
   "metadata": {},
   "outputs": [],
   "source": [
    "def sigmoid(z):\n",
    "    return 1 / (1 + np.exp(-z))"
   ]
  },
  {
   "cell_type": "code",
   "execution_count": 15,
   "metadata": {},
   "outputs": [
    {
     "data": {
      "text/plain": [
       "0.5"
      ]
     },
     "execution_count": 15,
     "metadata": {},
     "output_type": "execute_result"
    }
   ],
   "source": [
    "sigmoid(0)"
   ]
  },
  {
   "cell_type": "code",
   "execution_count": 16,
   "metadata": {},
   "outputs": [
    {
     "data": {
      "text/plain": [
       "array([[0.5],\n",
       "       [0.5]])"
      ]
     },
     "execution_count": 16,
     "metadata": {},
     "output_type": "execute_result"
    }
   ],
   "source": [
    "sigmoid(np.array([[0],[0]]))"
   ]
  },
  {
   "cell_type": "code",
   "execution_count": 17,
   "metadata": {},
   "outputs": [
    {
     "data": {
      "text/plain": [
       "(100, 1)"
      ]
     },
     "execution_count": 17,
     "metadata": {},
     "output_type": "execute_result"
    }
   ],
   "source": [
    "np.log(sigmoid(np.dot(X, initial_theta))).shape"
   ]
  },
  {
   "cell_type": "markdown",
   "metadata": {},
   "source": [
    "### Cost Function"
   ]
  },
  {
   "cell_type": "code",
   "execution_count": 18,
   "metadata": {},
   "outputs": [],
   "source": [
    "def compute_cost(theta, X, y):\n",
    "    h = sigmoid(np.dot(X, theta))\n",
    "    J = (1 / m) * np.sum(np.dot(np.transpose(-y), np.log(h)) - np.dot(np.transpose(1 - y), np.log(1 - h)))\n",
    "    grad = (1 / m) * (np.dot(np.transpose(X), (h-y)))\n",
    "    return J"
   ]
  },
  {
   "cell_type": "code",
   "execution_count": 19,
   "metadata": {},
   "outputs": [
    {
     "name": "stdout",
     "output_type": "stream",
     "text": [
      "Cost at initial theta (zeros): 0.6931471805599453\n"
     ]
    }
   ],
   "source": [
    "cost = compute_cost(initial_theta, X, y)\n",
    "print(f\"Cost at initial theta (zeros): {cost}\")\n",
    "# print(f\"The gradient at initial theta (zeros) is: {grad}\")"
   ]
  },
  {
   "cell_type": "code",
   "execution_count": 20,
   "metadata": {},
   "outputs": [
    {
     "name": "stdout",
     "output_type": "stream",
     "text": [
      "The Cost at test theta: 0.2183301938265977\n"
     ]
    }
   ],
   "source": [
    "# Compute and display cost and gradient with non-zero theta\n",
    "test_theta = np.array([[-24], [0.2], [0.2]])\n",
    "cost = compute_cost(test_theta,X, y)\n",
    "print(f\"The Cost at test theta: {cost}\")\n",
    "# print(f\"The gradient at test theta is: {grad}\")"
   ]
  },
  {
   "cell_type": "markdown",
   "metadata": {},
   "source": [
    "### Optimizing using fminunc"
   ]
  },
  {
   "cell_type": "code",
   "execution_count": 21,
   "metadata": {},
   "outputs": [
    {
     "data": {
      "text/plain": [
       "((100, 3), (3, 1), (100, 1))"
      ]
     },
     "execution_count": 21,
     "metadata": {},
     "output_type": "execute_result"
    }
   ],
   "source": [
    "X.shape, initial_theta.shape, y.shape"
   ]
  },
  {
   "cell_type": "code",
   "execution_count": 22,
   "metadata": {},
   "outputs": [
    {
     "name": "stdout",
     "output_type": "stream",
     "text": [
      "Optimization terminated successfully.\n",
      "         Current function value: 0.203498\n",
      "         Iterations: 157\n",
      "         Function evaluations: 287\n"
     ]
    }
   ],
   "source": [
    "from scipy.optimize import fmin\n",
    "#options = {'maxiter': 100}\n",
    "#minimize(CostFunction, initial_theta, args=(X, y), method=None, jac=gradientDescent, options=options)\n",
    "optTheta, functionVal, iterations, functionCalls, warningFlags = \\\n",
    "    fmin(compute_cost, initial_theta, args=(X, y), maxiter=400, full_output=True)"
   ]
  },
  {
   "cell_type": "code",
   "execution_count": 23,
   "metadata": {},
   "outputs": [
    {
     "data": {
      "text/plain": [
       "array([-25.16130062,   0.20623142,   0.20147143])"
      ]
     },
     "execution_count": 23,
     "metadata": {},
     "output_type": "execute_result"
    }
   ],
   "source": [
    "optTheta"
   ]
  },
  {
   "cell_type": "code",
   "execution_count": 24,
   "metadata": {},
   "outputs": [
    {
     "data": {
      "text/plain": [
       "0.2034977015902151"
      ]
     },
     "execution_count": 24,
     "metadata": {},
     "output_type": "execute_result"
    }
   ],
   "source": [
    "functionVal"
   ]
  },
  {
   "cell_type": "code",
   "execution_count": 25,
   "metadata": {},
   "outputs": [
    {
     "data": {
      "text/plain": [
       "157"
      ]
     },
     "execution_count": 25,
     "metadata": {},
     "output_type": "execute_result"
    }
   ],
   "source": [
    "iterations"
   ]
  },
  {
   "cell_type": "code",
   "execution_count": 26,
   "metadata": {},
   "outputs": [
    {
     "data": {
      "text/plain": [
       "287"
      ]
     },
     "execution_count": 26,
     "metadata": {},
     "output_type": "execute_result"
    }
   ],
   "source": [
    "functionCalls"
   ]
  },
  {
   "cell_type": "code",
   "execution_count": 27,
   "metadata": {},
   "outputs": [
    {
     "data": {
      "text/plain": [
       "0"
      ]
     },
     "execution_count": 27,
     "metadata": {},
     "output_type": "execute_result"
    }
   ],
   "source": [
    "warningFlags"
   ]
  },
  {
   "cell_type": "markdown",
   "metadata": {},
   "source": [
    "### Plot Decision Boundary"
   ]
  },
  {
   "cell_type": "code",
   "execution_count": 28,
   "metadata": {},
   "outputs": [
    {
     "name": "stdout",
     "output_type": "stream",
     "text": [
      "[ 28.05882245 101.8278578 ]\n",
      "[96.16594241 20.65402948]\n"
     ]
    },
    {
     "data": {
      "image/png": "[encoded data removed]",
      "text/plain": [
       "<Figure size 864x576 with 1 Axes>"
      ]
     },
     "metadata": {
      "needs_background": "light"
     },
     "output_type": "display_data"
    }
   ],
   "source": [
    "plt.figure(figsize=(12, 8))\n",
    "plotData(x[pos, 0][0], x[pos, 1][0], '+', 2, 'Admitted')\n",
    "plotData(x[neg, 0][0], x[neg, 1][0], 'o', 2, 'Not Admitted', colour='y')\n",
    "plt.xlabel('Exam 1 Score')\n",
    "plt.ylabel('Exam 2 Score')\n",
    "plt.legend()\n",
    "\n",
    "if X.shape[1] <= 3:\n",
    "    plot_x = np.array([np.min(X[:, 1])-2, np.max(X[:, 1])+2])\n",
    "    print(plot_x)\n",
    "    plot_y = -(optTheta[0] + optTheta[1] * plot_x) / optTheta[2]\n",
    "    print(plot_y)\n",
    "    plt.plot(plot_x, plot_y)"
   ]
  },
  {
   "cell_type": "code",
   "execution_count": 29,
   "metadata": {},
   "outputs": [],
   "source": [
    "def predict(X, theta):\n",
    "    # if sigmoid(theta' * x) >= 0.5, predict 1 else 0\n",
    "    \n",
    "    h = sigmoid(np.dot(X, theta))\n",
    "    p = np.round(h)\n",
    "    return p"
   ]
  },
  {
   "cell_type": "code",
   "execution_count": 30,
   "metadata": {},
   "outputs": [
    {
     "data": {
      "text/plain": [
       "1.0"
      ]
     },
     "execution_count": 30,
     "metadata": {},
     "output_type": "execute_result"
    }
   ],
   "source": [
    "predict([1, 45, 85], optTheta)"
   ]
  },
  {
   "cell_type": "code",
   "execution_count": 31,
   "metadata": {},
   "outputs": [
    {
     "name": "stdout",
     "output_type": "stream",
     "text": [
      "Training Accuracy: 89.0%\n"
     ]
    }
   ],
   "source": [
    "p = predict(X, optTheta).reshape(length, 1)\n",
    "print(f\"Training Accuracy: {np.mean(p == y) * 100}%\")"
   ]
  },
  {
   "cell_type": "markdown",
   "metadata": {},
   "source": [
    "### Regularized Linear Regression: Microchips\n",
    "\n",
    "<p>Suppose you are the product manager of the factory and you have the\n",
    "test results for some microchips on two different tests. From these two tests,\n",
    "you would like to determine whether the microchips should be accepted or\n",
    "rejected</p>"
   ]
  },
  {
   "cell_type": "code",
   "execution_count": 797,
   "metadata": {},
   "outputs": [
    {
     "data": {
      "text/plain": [
       "array([[ 0.051267,  0.69956 ,  1.      ],\n",
       "       [-0.092742,  0.68494 ,  1.      ],\n",
       "       [-0.21371 ,  0.69225 ,  1.      ],\n",
       "       [-0.375   ,  0.50219 ,  1.      ],\n",
       "       [-0.51325 ,  0.46564 ,  1.      ]])"
      ]
     },
     "execution_count": 797,
     "metadata": {},
     "output_type": "execute_result"
    }
   ],
   "source": [
    "df_micro = load_data('ex2data2.txt', ',')\n",
    "df_micro[0:5]"
   ]
  },
  {
   "cell_type": "code",
   "execution_count": 798,
   "metadata": {},
   "outputs": [
    {
     "name": "stdout",
     "output_type": "stream",
     "text": [
      "[[ 0.051267  0.69956 ]\n",
      " [-0.092742  0.68494 ]\n",
      " [-0.21371   0.69225 ]\n",
      " [-0.375     0.50219 ]\n",
      " [-0.51325   0.46564 ]]\n",
      "[[1.]\n",
      " [1.]\n",
      " [1.]\n",
      " [1.]\n",
      " [1.]]\n"
     ]
    }
   ],
   "source": [
    "length = len(df_micro)\n",
    "x = df_micro[:, :2]\n",
    "print(x[:5])\n",
    "y = df_micro[:, 2].reshape(length, 1)\n",
    "print(y[:5])"
   ]
  },
  {
   "cell_type": "code",
   "execution_count": 799,
   "metadata": {},
   "outputs": [
    {
     "data": {
      "text/plain": [
       "<matplotlib.legend.Legend at 0x7f04e7f16c50>"
      ]
     },
     "execution_count": 799,
     "metadata": {},
     "output_type": "execute_result"
    },
    {
     "data": {
      "image/png": "[encoded data removed]",
      "text/plain": [
       "<Figure size 864x576 with 1 Axes>"
      ]
     },
     "metadata": {
      "needs_background": "light"
     },
     "output_type": "display_data"
    }
   ],
   "source": [
    "pos = np.where(y == 1)\n",
    "neg = np.where(y == 0)\n",
    "\n",
    "plt.figure(figsize=(12, 8))\n",
    "plotData(x[pos, 0][0], x[pos, 1][0], '+', 2, 'y=1')\n",
    "plotData(x[neg, 0][0], x[neg, 1][0], 'o', 2, 'y=0', colour='y')\n",
    "plt.xlabel('Microchip Test 1')\n",
    "plt.ylabel('Microchip Test 2')\n",
    "plt.legend()"
   ]
  },
  {
   "cell_type": "markdown",
   "metadata": {},
   "source": [
    "### Feature Mapping"
   ]
  },
  {
   "cell_type": "code",
   "execution_count": 800,
   "metadata": {},
   "outputs": [],
   "source": [
    "def map_feature(X1, X2, degree):\n",
    "    out = np.ones((len(X1),1))\n",
    "    for i in np.arange(1, degree+1):\n",
    "        for j in np.arange(i+1): \n",
    "            out = np.hstack((out, np.multiply(np.power(X1, (i-j)), np.power(X2, j)).reshape(len(X1), 1)))\n",
    "    return out"
   ]
  },
  {
   "cell_type": "code",
   "execution_count": 801,
   "metadata": {},
   "outputs": [
    {
     "data": {
      "text/plain": [
       "(118, 28)"
      ]
     },
     "execution_count": 801,
     "metadata": {},
     "output_type": "execute_result"
    }
   ],
   "source": [
    "X = map_feature(x[:, 0], x[:, 1], 6)\n",
    "X.shape"
   ]
  },
  {
   "cell_type": "code",
   "execution_count": 802,
   "metadata": {},
   "outputs": [],
   "source": [
    "initial_theta = np.zeros((X.shape[1], 1))"
   ]
  },
  {
   "cell_type": "code",
   "execution_count": 803,
   "metadata": {},
   "outputs": [
    {
     "data": {
      "text/plain": [
       "(28, 1)"
      ]
     },
     "execution_count": 803,
     "metadata": {},
     "output_type": "execute_result"
    }
   ],
   "source": [
    "# Set regularization parameter lambda to 1\n",
    "l = .2\n",
    "# Set initial value of theta\n",
    "initial_theta.shape"
   ]
  },
  {
   "cell_type": "markdown",
   "metadata": {},
   "source": [
    "### Cost Function"
   ]
  },
  {
   "cell_type": "code",
   "execution_count": 804,
   "metadata": {},
   "outputs": [],
   "source": [
    "def compute_cost_reg(theta, X, y, l):\n",
    "    J = 0\n",
    "    m = len(y)\n",
    "    h = sigmoid(X @ theta)\n",
    "    J = (1 / m) * np.sum(np.dot(np.transpose(-y), np.log(h)) - np.dot(np.transpose(1 - y), np.log(1 - h))) + (l / (2 * m) * np.sum(theta ** 2))\n",
    "    return J"
   ]
  },
  {
   "cell_type": "markdown",
   "metadata": {},
   "source": [
    "### Gradient Descent"
   ]
  },
  {
   "cell_type": "code",
   "execution_count": 805,
   "metadata": {},
   "outputs": [],
   "source": [
    "def gradient_descent_reg(theta, X, y, l, alpha, num_iters):\n",
    "    J_history = np.zeros((num_iters, 1), dtype=np.float)\n",
    "    m = len(y)\n",
    "    h = sigmoid(np.dot(X, theta))\n",
    "    for i in np.arange(num_iters):\n",
    "        theta = theta - alpha * ((1 / m) * np.dot(np.transpose(X), (h - y)) + (l/m) * theta)\n",
    "        J_history[i] = compute_cost_reg(theta, X, y, l)\n",
    "    return theta, J_history"
   ]
  },
  {
   "cell_type": "code",
   "execution_count": 806,
   "metadata": {},
   "outputs": [],
   "source": [
    "alpha = 0.01\n",
    "num_iters = 900\n",
    "theta, J_history = gradient_descent_reg(initial_theta, X, y, l, alpha, num_iters)"
   ]
  },
  {
   "cell_type": "code",
   "execution_count": 807,
   "metadata": {},
   "outputs": [
    {
     "name": "stdout",
     "output_type": "stream",
     "text": [
      "[[-0.07569304]\n",
      " [-0.16781109]\n",
      " [-0.00069464]\n",
      " [-0.44966718]\n",
      " [-0.10272734]\n",
      " [-0.33641408]\n",
      " [-0.16395162]\n",
      " [-0.06541576]\n",
      " [-0.0731731 ]\n",
      " [-0.2096868 ]\n",
      " [-0.3514532 ]\n",
      " [-0.02000039]\n",
      " [-0.11486312]\n",
      " [-0.02765223]\n",
      " [-0.35104407]\n",
      " [-0.17837429]\n",
      " [-0.0386731 ]\n",
      " [-0.03024692]\n",
      " [-0.0521457 ]\n",
      " [-0.03998124]\n",
      " [-0.27695646]\n",
      " [-0.27716421]\n",
      " [-0.00980176]\n",
      " [-0.05641051]\n",
      " [-0.00364866]\n",
      " [-0.06488976]\n",
      " [-0.01229425]\n",
      " [-0.34649618]]\n"
     ]
    }
   ],
   "source": [
    "print(theta)"
   ]
  },
  {
   "cell_type": "code",
   "execution_count": 808,
   "metadata": {},
   "outputs": [
    {
     "data": {
      "text/plain": [
       "[<matplotlib.lines.Line2D at 0x7f04e7e8a860>]"
      ]
     },
     "execution_count": 808,
     "metadata": {},
     "output_type": "execute_result"
    },
    {
     "data": {
      "image/png": "[encoded data removed]",
      "text/plain": [
       "<Figure size 432x288 with 1 Axes>"
      ]
     },
     "metadata": {
      "needs_background": "light"
     },
     "output_type": "display_data"
    }
   ],
   "source": [
    "plt.plot(J_history)"
   ]
  },
  {
   "cell_type": "markdown",
   "metadata": {},
   "source": [
    "### Advanced Optimization "
   ]
  },
  {
   "cell_type": "code",
   "execution_count": 809,
   "metadata": {},
   "outputs": [],
   "source": [
    "def costFunction(theta, X, y, l):\n",
    "    J = 0\n",
    "    m = len(y)\n",
    "    grad = np.zeros(len(theta))\n",
    "    h = sigmoid(X @ theta)\n",
    "    thetaT = theta\n",
    "    thetaT[0] = 0\n",
    "    #J = (1 / m) * np.sum((-y.T @ np.log(h) - (1 - y).T @ np.log(1 - h))) + ((l / (2 * m)) * np.sum(thetaT ** 2));\n",
    "    J = (1 / m) * np.sum(np.dot(np.transpose(-y), np.log(h)) - np.dot(np.transpose(1 - y), np.log(1 - h))) + (l / (2 * m) * np.sum(theta ** 2))\n",
    "    #grad = (1 / m) * (X.T @ (h - y)) + (l / m) * thetaT\n",
    "    grad = (1 / m) * (np.dot(np.transpose(X), (h-y))) + (l / m) * thetaT\n",
    "    return J, grad"
   ]
  },
  {
   "cell_type": "code",
   "execution_count": 810,
   "metadata": {},
   "outputs": [
    {
     "data": {
      "text/plain": [
       "0.6931471805599454"
      ]
     },
     "execution_count": 810,
     "metadata": {},
     "output_type": "execute_result"
    }
   ],
   "source": [
    "cost, grad = costFunction(initial_theta, X, y, l)\n",
    "cost"
   ]
  },
  {
   "cell_type": "code",
   "execution_count": 811,
   "metadata": {},
   "outputs": [
    {
     "data": {
      "text/plain": [
       "(0.6931471805599454,\n",
       " array([[8.47457627e-03],\n",
       "        [1.87880932e-02],\n",
       "        [7.77711864e-05],\n",
       "        [5.03446395e-02]]))"
      ]
     },
     "execution_count": 811,
     "metadata": {},
     "output_type": "execute_result"
    }
   ],
   "source": [
    "cost, grad[0:4]"
   ]
  },
  {
   "cell_type": "code",
   "execution_count": 812,
   "metadata": {},
   "outputs": [
    {
     "name": "stdout",
     "output_type": "stream",
     "text": [
      "Cost at test theta (with lambda = 10) is 3.1645093316150095\n",
      "Gradient at test theta - first five values only: \n",
      " [[0.34604507]\n",
      " [0.16135192]\n",
      " [0.19479576]\n",
      " [0.22686278]]\n"
     ]
    }
   ],
   "source": [
    "test_theta = np.ones((X.shape[1], 1))\n",
    "l = 10\n",
    "\n",
    "cost, grad = costFunction(test_theta,X, y, l)\n",
    "print(f\"Cost at test theta (with lambda = 10) is {cost}\")\n",
    "print(f\"Gradient at test theta - first five values only: \\n {grad[0:4]}\")"
   ]
  },
  {
   "cell_type": "code",
   "execution_count": 813,
   "metadata": {},
   "outputs": [],
   "source": [
    "def gradient_descent_reg1(theta, X, y, l, alpha, num_iters):\n",
    "    J_history = np.zeros((num_iters, 1), dtype=np.float)\n",
    "    m = len(y)\n",
    "    h = sigmoid(np.dot(X, theta))\n",
    "    for i in np.arange(num_iters):\n",
    "        cost, grad = costFunction(theta, X, y, l)\n",
    "        theta = theta - (alpha * grad)\n",
    "        J_history[i] = cost\n",
    "    return theta, J_history"
   ]
  },
  {
   "cell_type": "code",
   "execution_count": 814,
   "metadata": {},
   "outputs": [
    {
     "data": {
      "text/plain": [
       "array([[ 0.09361491],\n",
       "       [ 0.69761312],\n",
       "       [ 1.7781011 ],\n",
       "       [-0.03346222],\n",
       "       [-1.90457183],\n",
       "       [ 0.95498981],\n",
       "       [ 0.72575493],\n",
       "       [-1.09896446],\n",
       "       [-0.54232873],\n",
       "       [-0.16328587],\n",
       "       [-2.51364266],\n",
       "       [ 0.34863549],\n",
       "       [-1.62813474],\n",
       "       [-0.39777893],\n",
       "       [-2.10418605],\n",
       "       [-0.45044348],\n",
       "       [-0.49919255],\n",
       "       [ 0.03658822],\n",
       "       [-0.85995882],\n",
       "       [-0.63153219],\n",
       "       [-0.89781412],\n",
       "       [-2.35016943],\n",
       "       [ 0.35334625],\n",
       "       [-0.87967923],\n",
       "       [ 0.27161446],\n",
       "       [-1.049769  ],\n",
       "       [-0.20781757],\n",
       "       [-2.08448519]])"
      ]
     },
     "execution_count": 814,
     "metadata": {},
     "output_type": "execute_result"
    }
   ],
   "source": [
    "tht, hist = gradient_descent_reg1(theta, X, y, .2, 1, 800)\n",
    "tht"
   ]
  },
  {
   "cell_type": "code",
   "execution_count": 815,
   "metadata": {},
   "outputs": [
    {
     "data": {
      "text/plain": [
       "[<matplotlib.lines.Line2D at 0x7f04e7e635c0>]"
      ]
     },
     "execution_count": 815,
     "metadata": {},
     "output_type": "execute_result"
    },
    {
     "data": {
      "image/png": "[encoded data removed]",
      "text/plain": [
       "<Figure size 432x288 with 1 Axes>"
      ]
     },
     "metadata": {
      "needs_background": "light"
     },
     "output_type": "display_data"
    }
   ],
   "source": [
    "plt.plot(hist)"
   ]
  },
  {
   "cell_type": "code",
   "execution_count": 816,
   "metadata": {},
   "outputs": [
    {
     "data": {
      "text/plain": [
       "2.114169712335093"
      ]
     },
     "execution_count": 816,
     "metadata": {},
     "output_type": "execute_result"
    }
   ],
   "source": [
    "cost, grad = costFunction(tht, X, y, l)\n",
    "cost"
   ]
  },
  {
   "cell_type": "markdown",
   "metadata": {},
   "source": [
    "### Regularization and Accuracies\n",
    "\n",
    "### Optimizing using fminunc"
   ]
  },
  {
   "cell_type": "code",
   "execution_count": 818,
   "metadata": {},
   "outputs": [
    {
     "name": "stdout",
     "output_type": "stream",
     "text": [
      "     fun: 0.43283059215668823\n",
      "     jac: array([-3.23552851e-03,  4.79921658e-04, -2.60585997e-04, -8.21265278e-04,\n",
      "       -7.89646126e-05, -1.05261355e-03,  1.43679513e-04, -5.29881694e-04,\n",
      "       -2.24942287e-04,  2.99493763e-04, -8.52629078e-04,  2.25858221e-04,\n",
      "       -1.71096470e-04, -3.70364850e-04, -8.64597283e-04, -3.66034980e-04,\n",
      "        5.72430991e-05,  3.98431288e-04,  2.80797607e-04, -2.03198569e-04,\n",
      "       -6.14847062e-04, -8.40494341e-04, -3.68161057e-04, -1.37745371e-04,\n",
      "       -8.39661674e-05, -2.06079598e-04,  2.67263989e-04, -4.00790512e-04])\n",
      " message: 'Max. number of function evaluations reached'\n",
      "    nfev: 400\n",
      "     nit: 43\n",
      "  status: 3\n",
      " success: False\n",
      "       x: array([ 2.19208249,  1.48350264,  2.33258199, -3.33861777, -2.49446327,\n",
      "       -3.06778849,  0.61488613, -1.08102591, -0.68764006,  0.02793612,\n",
      "       -2.86850215,  0.32179456, -1.37786205, -1.04531046, -2.42546538,\n",
      "       -0.58264017, -0.31919901,  0.45920342, -0.56970448, -0.91745824,\n",
      "       -0.59058216, -2.33855769,  0.03325168, -0.65403073,  0.15023501,\n",
      "       -0.89637554, -0.41146004, -1.28890039])\n"
     ]
    },
    {
     "data": {
      "text/plain": [
       "array([ 2.19208249,  1.48350264,  2.33258199, -3.33861777, -2.49446327,\n",
       "       -3.06778849,  0.61488613, -1.08102591, -0.68764006,  0.02793612,\n",
       "       -2.86850215,  0.32179456, -1.37786205, -1.04531046, -2.42546538,\n",
       "       -0.58264017, -0.31919901,  0.45920342, -0.56970448, -0.91745824,\n",
       "       -0.59058216, -2.33855769,  0.03325168, -0.65403073,  0.15023501,\n",
       "       -0.89637554, -0.41146004, -1.28890039])"
      ]
     },
     "execution_count": 818,
     "metadata": {},
     "output_type": "execute_result"
    }
   ],
   "source": [
    "from scipy.optimize import minimize\n",
    "options = {'maxiter': 400}\n",
    "l = .2\n",
    "fg = minimize(fun=compute_cost_reg, x0=initial_theta, args=(X, y, l), method='TNC', options=options)\n",
    "print(fg)\n",
    "adv_tht = fg.x\n",
    "adv_tht"
   ]
  },
  {
   "cell_type": "code",
   "execution_count": 819,
   "metadata": {},
   "outputs": [
    {
     "name": "stdout",
     "output_type": "stream",
     "text": [
      "Training Accuracy: 71.1864406779661%\n"
     ]
    }
   ],
   "source": [
    "p = predict(X, tht).reshape(length, 1)\n",
    "print(f\"Training Accuracy: {np.mean(p == y) * 100}%\")"
   ]
  },
  {
   "cell_type": "code",
   "execution_count": 820,
   "metadata": {},
   "outputs": [
    {
     "name": "stdout",
     "output_type": "stream",
     "text": [
      "Training Accuracy: 83.05084745762711%\n"
     ]
    }
   ],
   "source": [
    "p = predict(X, adv_tht).reshape(length, 1)\n",
    "print(f\"Training Accuracy: {np.mean(p == y) * 100}%\")"
   ]
  },
  {
   "cell_type": "markdown",
   "metadata": {},
   "source": [
    "### Plot Decision Binary"
   ]
  },
  {
   "cell_type": "code",
   "execution_count": 824,
   "metadata": {},
   "outputs": [
    {
     "data": {
      "text/plain": [
       "<matplotlib.contour.QuadContourSet at 0x7f04e7c9dac8>"
      ]
     },
     "execution_count": 824,
     "metadata": {},
     "output_type": "execute_result"
    },
    {
     "data": {
      "image/png": "[encoded data removed]",
      "text/plain": [
       "<Figure size 864x576 with 1 Axes>"
      ]
     },
     "metadata": {
      "needs_background": "light"
     },
     "output_type": "display_data"
    }
   ],
   "source": [
    "def map_feature_plot(X1,X2,degree):\n",
    "    out = np.ones(1)\n",
    "    for i in range(1,degree+1):\n",
    "        for j in range(i+1):\n",
    "            terms= (X1**(i-j) * X2**j)\n",
    "            out= np.hstack((out,terms))\n",
    "    return out\n",
    "\n",
    "pos = np.where(y == 1)\n",
    "neg = np.where(y == 0)\n",
    "plt.figure(figsize=(12, 8))\n",
    "plotData(x[pos, 0][0], x[pos, 1][0], '+', 2, 'y=1')\n",
    "plotData(x[neg, 0][0], x[neg, 1][0], 'o', 2, 'y=0', colour='y')\n",
    "plt.xlabel('Microchip Test 1')\n",
    "plt.ylabel('Microchip Test 2')\n",
    "plt.legend()\n",
    "\n",
    "\n",
    "u = np.linspace(-1, 1.5, 50)\n",
    "v = np.linspace(-1, 1.5, 50)\n",
    "\n",
    "z = np.zeros((len(u), len(v)))\n",
    "\n",
    "for i in np.arange(len(u)):\n",
    "    for j in np.arange(len(v)):\n",
    "        z[i,j] = map_feature_plot(u[i], v[j], 6) @ adv_tht\n",
    "        \n",
    "z = z.T\n",
    "plt.contour(u, v, z, 0)"
   ]
  },
  {
   "cell_type": "code",
   "execution_count": null,
   "metadata": {},
   "outputs": [],
   "source": []
  },
  {
   "cell_type": "code",
   "execution_count": null,
   "metadata": {},
   "outputs": [],
   "source": []
  }
 ],
 "metadata": {
  "kernelspec": {
   "display_name": "Python 3",
   "language": "python",
   "name": "python3"
  },
  "language_info": {
   "codemirror_mode": {
    "name": "ipython",
    "version": 3
   },
   "file_extension": ".py",
   "mimetype": "text/x-python",
   "name": "python",
   "nbconvert_exporter": "python",
   "pygments_lexer": "ipython3",
   "version": "3.6.9"
  }
 },
 "nbformat": 4,
 "nbformat_minor": 4
}
